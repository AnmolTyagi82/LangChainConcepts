{
 "cells": [
  {
   "cell_type": "markdown",
   "metadata": {},
   "source": [
    "# Memory in LangChain"
   ]
  },
  {
   "cell_type": "code",
   "execution_count": 1,
   "metadata": {},
   "outputs": [],
   "source": [
    "from langchain_openai import OpenAI\n",
    "from dotenv import load_dotenv\n",
    "load_dotenv()\n",
    "import os\n",
    "OPENAI_API_KEY = os.environ[\"OPENAI_API_KEY\"]"
   ]
  },
  {
   "cell_type": "code",
   "execution_count": 2,
   "metadata": {},
   "outputs": [],
   "source": [
    "client = OpenAI(openai_api_key=OPENAI_API_KEY)"
   ]
  },
  {
   "cell_type": "code",
   "execution_count": 5,
   "metadata": {},
   "outputs": [],
   "source": [
    "from langchain.prompts import PromptTemplate\n",
    "from langchain.chains import LLMChain"
   ]
  },
  {
   "cell_type": "code",
   "execution_count": 6,
   "metadata": {},
   "outputs": [],
   "source": [
    "prompt_template_name = PromptTemplate(\n",
    "    input_variables=[\"product\"],\n",
    "    template=\"What is a good name for a company that makes {product}\"\n",
    ")"
   ]
  },
  {
   "cell_type": "code",
   "execution_count": 7,
   "metadata": {},
   "outputs": [],
   "source": [
    "chain = LLMChain(llm=client, prompt=prompt_template_name)"
   ]
  },
  {
   "cell_type": "code",
   "execution_count": 19,
   "metadata": {},
   "outputs": [
    {
     "name": "stdout",
     "output_type": "stream",
     "text": [
      "{'product': 'Colorful cup', 'text': '\\n\\nRainbow Cups Co.'}\n"
     ]
    }
   ],
   "source": [
    "print(chain.invoke(\"Colorful cup\"))"
   ]
  },
  {
   "cell_type": "code",
   "execution_count": 20,
   "metadata": {},
   "outputs": [],
   "source": [
    "prompt_template_name = PromptTemplate(\n",
    "    input_variables=[\"product\"],\n",
    "    template=\"What is a good name for a company that makes {product}\"\n",
    ")"
   ]
  },
  {
   "cell_type": "code",
   "execution_count": 21,
   "metadata": {},
   "outputs": [],
   "source": [
    "chain = LLMChain(llm=client, prompt=prompt_template_name)"
   ]
  },
  {
   "cell_type": "code",
   "execution_count": 26,
   "metadata": {},
   "outputs": [
    {
     "data": {
      "text/plain": [
       "'1. SkyTech Drones\\n2. AeroFlight Innovations\\n3. Precision Aerial Solutions\\n4. DroneWorks Co.\\n5. Horizon Dynamics\\n6. Maverick Drones\\n7. Altitude Aeronautics\\n8. FlightCraft Technologies\\n9. Airborne Robotics\\n10. Winged Innovations Inc.'"
      ]
     },
     "execution_count": 26,
     "metadata": {},
     "output_type": "execute_result"
    }
   ],
   "source": [
    "chain.run(\"drons\").strip()"
   ]
  },
  {
   "cell_type": "code",
   "execution_count": 27,
   "metadata": {},
   "outputs": [],
   "source": [
    "chain.memory"
   ]
  },
  {
   "cell_type": "code",
   "execution_count": 28,
   "metadata": {},
   "outputs": [
    {
     "data": {
      "text/plain": [
       "NoneType"
      ]
     },
     "execution_count": 28,
     "metadata": {},
     "output_type": "execute_result"
    }
   ],
   "source": [
    "type(chain.memory)"
   ]
  },
  {
   "cell_type": "markdown",
   "metadata": {},
   "source": [
    "ConversationBufferMemory : \n",
    "We can attach memory to remember all previous conversation"
   ]
  },
  {
   "cell_type": "code",
   "execution_count": 29,
   "metadata": {},
   "outputs": [],
   "source": [
    "from langchain.memory import ConversationBufferMemory"
   ]
  },
  {
   "cell_type": "code",
   "execution_count": 30,
   "metadata": {},
   "outputs": [],
   "source": [
    "memory = ConversationBufferMemory()"
   ]
  },
  {
   "cell_type": "code",
   "execution_count": 38,
   "metadata": {},
   "outputs": [],
   "source": [
    "prompt_template_name = PromptTemplate(\n",
    "    input_variables=[\"product\"],\n",
    "    template=\"What is a good name for a company that makes {product}\"\n",
    ")"
   ]
  },
  {
   "cell_type": "code",
   "execution_count": 39,
   "metadata": {},
   "outputs": [],
   "source": [
    "chain = LLMChain(llm=client, prompt=prompt_template_name, memory=memory)"
   ]
  },
  {
   "cell_type": "code",
   "execution_count": 45,
   "metadata": {},
   "outputs": [
    {
     "data": {
      "text/plain": [
       "{'product': 'Wines',\n",
       " 'history': 'Human: Wines\\nAI: \\n\\n1. Vine & Vino Co.\\n2. Grapevine Cellars\\n3. Noble Nectar Wines\\n4. Harvest Moon Winery\\n5. Vintage Vines Company\\n6. Cork & Cask Co.\\n7. Bacchus Blend Winery\\n8. The Wine Cellar Co.\\n9. Terroir Tastings\\n10. Vintner\\'s Reserve Wines\\nHuman: Wines\\nAI: \\n\\n\"VineCraft\"\\nHuman: Wines\\nAI: \\n\\n\"Vinterra\"\\nHuman: Wines\\nAI: \\n\\n1. Vineyard Vines\\n2. Grape & Co.\\n3. The Wine Cellar\\n4. Noble Vines\\n5. Vintage Vines\\n6. Harvest Hill Winery\\n7. Cellar Door Wines\\n8. Barrel & Vat\\n9. Vino Vista\\n10. The Grape Company\\n11. Elite Estates Winery\\n12. Grand Cru Wines\\n13. Chateau Vineyards\\n14. Oak & Vine\\n15. Noble Oak Wines\\n16. The Wine Press\\n17. Vintage Reserve\\n18. Liberty Vineyards\\n19. The Wine Maker\\'s Guild\\n20. Heritage Hills Winery.\\nHuman: Wines\\nAI: \\n\\n1. VinoVerse\\n2. Grapevine Cellars\\n3. Vintage Vineyards\\n4. Winemakers Co.\\n5. Bacchus Bliss\\n6. The WineSmiths\\n7. Noble Nectar Wines\\n8. Harvest Haven Wines\\n9. Cellar Door Creations\\n10. Sip & Savor Winery\\n11. Chateau Charmant\\n12. Red, White & Bubbly Co.\\n13. Vinoteca Wines\\n14. Terroir Treasures\\n15. Barrique Boutique.\\nHuman: Wines\\nAI: \\n\\n1. VinoVita\\n2. Grapevine Cellars\\n3. Legacy Estates Winery\\n4. Noble Vines\\n5. Harvest Moon Wines\\n6. Vinestream Cellars\\n7. Terroir Reserve\\n8. Bacchus Blend\\n9. Sip & Savour Winery\\n10. Oak & Vine Co.\\n11. Enchanted Vineyards\\n12. Vintage Roots Winery\\n13. WineCraft Co.\\n14. Cellar Door Wines\\n15. Chateau de Grapes\\n16. Cask & Cane Winery\\n17. WineHaus Co.\\n18. Terra Vino Winery\\n19. Vintner\\'s Choice\\n20. Redwood Ridge Winery\\nHuman: Wines\\nAI: \\n\\n1. Vintage Vines Co.\\n2. Grapevine Estates\\n3. Noble Nectar Winery\\n4. Cellar Select Wines\\n5. Harvest Haven Wines\\n6. Vino Vista Company\\n7. Redwood Ridge Winery\\n8. Velvet Crush Wines\\n9. Heritage Hills Vineyards\\n10. Savor & Sip Wines \\n\\nHuman: Wines\\nAI: \\n\\n1. Vinovia\\n2. CellarCraft\\n3. VinoVine\\n4. NobleVine\\n5. Grapes & Vines\\n6. Harvest & Vintages\\n7. WineCrafters\\n8. TerraVino\\n9. Bacchus Wines\\n10. The Vineyard Co.\\n11. Vintage Cellars\\n12. Winemaker\\'s Reserve\\n13. Legacy Wines\\n14. Terroir & Vines\\n15. Vinoteca\\n16. Grand Cru Winery\\n17. Vintner\\'s Choice\\n18. Grapevine Estates\\n19. Noble Valley Wines\\n20. Savvy Cellars.',\n",
       " 'text': \"\\n\\n1. Vine & Vino\\n2. Cellar Reserve\\n3. Grapevine Co.\\n4. Harvest Moon Wines\\n5. Vintage Vines\\n6. Cork & Barrel\\n7. The Winery Collective\\n8. Noble Oak Wines\\n9. Crimson Crush Cellars\\n10. Bacchus' Bounty\\n11. Enchanting Estates\\n12. Heritage Hills Winery\\n13. Silver Lining Wines\\n14. Sun-kissed Cellars\\n15. Noble Nectar Winery.\"}"
      ]
     },
     "execution_count": 45,
     "metadata": {},
     "output_type": "execute_result"
    }
   ],
   "source": [
    "chain.invoke(\"Wines\")"
   ]
  },
  {
   "cell_type": "code",
   "execution_count": 46,
   "metadata": {},
   "outputs": [
    {
     "data": {
      "text/plain": [
       "{'product': 'Camera',\n",
       " 'history': 'Human: Wines\\nAI: \\n\\n1. Vine & Vino Co.\\n2. Grapevine Cellars\\n3. Noble Nectar Wines\\n4. Harvest Moon Winery\\n5. Vintage Vines Company\\n6. Cork & Cask Co.\\n7. Bacchus Blend Winery\\n8. The Wine Cellar Co.\\n9. Terroir Tastings\\n10. Vintner\\'s Reserve Wines\\nHuman: Wines\\nAI: \\n\\n\"VineCraft\"\\nHuman: Wines\\nAI: \\n\\n\"Vinterra\"\\nHuman: Wines\\nAI: \\n\\n1. Vineyard Vines\\n2. Grape & Co.\\n3. The Wine Cellar\\n4. Noble Vines\\n5. Vintage Vines\\n6. Harvest Hill Winery\\n7. Cellar Door Wines\\n8. Barrel & Vat\\n9. Vino Vista\\n10. The Grape Company\\n11. Elite Estates Winery\\n12. Grand Cru Wines\\n13. Chateau Vineyards\\n14. Oak & Vine\\n15. Noble Oak Wines\\n16. The Wine Press\\n17. Vintage Reserve\\n18. Liberty Vineyards\\n19. The Wine Maker\\'s Guild\\n20. Heritage Hills Winery.\\nHuman: Wines\\nAI: \\n\\n1. VinoVerse\\n2. Grapevine Cellars\\n3. Vintage Vineyards\\n4. Winemakers Co.\\n5. Bacchus Bliss\\n6. The WineSmiths\\n7. Noble Nectar Wines\\n8. Harvest Haven Wines\\n9. Cellar Door Creations\\n10. Sip & Savor Winery\\n11. Chateau Charmant\\n12. Red, White & Bubbly Co.\\n13. Vinoteca Wines\\n14. Terroir Treasures\\n15. Barrique Boutique.\\nHuman: Wines\\nAI: \\n\\n1. VinoVita\\n2. Grapevine Cellars\\n3. Legacy Estates Winery\\n4. Noble Vines\\n5. Harvest Moon Wines\\n6. Vinestream Cellars\\n7. Terroir Reserve\\n8. Bacchus Blend\\n9. Sip & Savour Winery\\n10. Oak & Vine Co.\\n11. Enchanted Vineyards\\n12. Vintage Roots Winery\\n13. WineCraft Co.\\n14. Cellar Door Wines\\n15. Chateau de Grapes\\n16. Cask & Cane Winery\\n17. WineHaus Co.\\n18. Terra Vino Winery\\n19. Vintner\\'s Choice\\n20. Redwood Ridge Winery\\nHuman: Wines\\nAI: \\n\\n1. Vintage Vines Co.\\n2. Grapevine Estates\\n3. Noble Nectar Winery\\n4. Cellar Select Wines\\n5. Harvest Haven Wines\\n6. Vino Vista Company\\n7. Redwood Ridge Winery\\n8. Velvet Crush Wines\\n9. Heritage Hills Vineyards\\n10. Savor & Sip Wines \\n\\nHuman: Wines\\nAI: \\n\\n1. Vinovia\\n2. CellarCraft\\n3. VinoVine\\n4. NobleVine\\n5. Grapes & Vines\\n6. Harvest & Vintages\\n7. WineCrafters\\n8. TerraVino\\n9. Bacchus Wines\\n10. The Vineyard Co.\\n11. Vintage Cellars\\n12. Winemaker\\'s Reserve\\n13. Legacy Wines\\n14. Terroir & Vines\\n15. Vinoteca\\n16. Grand Cru Winery\\n17. Vintner\\'s Choice\\n18. Grapevine Estates\\n19. Noble Valley Wines\\n20. Savvy Cellars.\\nHuman: Wines\\nAI: \\n\\n1. Vine & Vino\\n2. Cellar Reserve\\n3. Grapevine Co.\\n4. Harvest Moon Wines\\n5. Vintage Vines\\n6. Cork & Barrel\\n7. The Winery Collective\\n8. Noble Oak Wines\\n9. Crimson Crush Cellars\\n10. Bacchus\\' Bounty\\n11. Enchanting Estates\\n12. Heritage Hills Winery\\n13. Silver Lining Wines\\n14. Sun-kissed Cellars\\n15. Noble Nectar Winery.',\n",
       " 'text': '\\n\\n1. LensCrafters\\n2. SnapShutter Inc.\\n3. FocusWorks\\n4. ShotSpotter\\n5. ClickWorks\\n6. OpticVision\\n7. PixelPro\\n8. CamCo\\n9. ImageMakers\\n10. CaptureTech\\n11. CameraCrafters\\n12. FrameWorks\\n13. SnapTech Solutions\\n14. LensLogic\\n15. FilmFusion Co.\\n16. SnapSmith\\n17. CaptureCo\\n18. ShutterPro Inc.\\n19. PixelPerfect Co.\\n20. CamTech Solutions.'}"
      ]
     },
     "execution_count": 46,
     "metadata": {},
     "output_type": "execute_result"
    }
   ],
   "source": [
    "chain.invoke(\"Camera\")"
   ]
  },
  {
   "cell_type": "code",
   "execution_count": 47,
   "metadata": {},
   "outputs": [
    {
     "data": {
      "text/plain": [
       "{'product': 'drons',\n",
       " 'history': 'Human: Wines\\nAI: \\n\\n1. Vine & Vino Co.\\n2. Grapevine Cellars\\n3. Noble Nectar Wines\\n4. Harvest Moon Winery\\n5. Vintage Vines Company\\n6. Cork & Cask Co.\\n7. Bacchus Blend Winery\\n8. The Wine Cellar Co.\\n9. Terroir Tastings\\n10. Vintner\\'s Reserve Wines\\nHuman: Wines\\nAI: \\n\\n\"VineCraft\"\\nHuman: Wines\\nAI: \\n\\n\"Vinterra\"\\nHuman: Wines\\nAI: \\n\\n1. Vineyard Vines\\n2. Grape & Co.\\n3. The Wine Cellar\\n4. Noble Vines\\n5. Vintage Vines\\n6. Harvest Hill Winery\\n7. Cellar Door Wines\\n8. Barrel & Vat\\n9. Vino Vista\\n10. The Grape Company\\n11. Elite Estates Winery\\n12. Grand Cru Wines\\n13. Chateau Vineyards\\n14. Oak & Vine\\n15. Noble Oak Wines\\n16. The Wine Press\\n17. Vintage Reserve\\n18. Liberty Vineyards\\n19. The Wine Maker\\'s Guild\\n20. Heritage Hills Winery.\\nHuman: Wines\\nAI: \\n\\n1. VinoVerse\\n2. Grapevine Cellars\\n3. Vintage Vineyards\\n4. Winemakers Co.\\n5. Bacchus Bliss\\n6. The WineSmiths\\n7. Noble Nectar Wines\\n8. Harvest Haven Wines\\n9. Cellar Door Creations\\n10. Sip & Savor Winery\\n11. Chateau Charmant\\n12. Red, White & Bubbly Co.\\n13. Vinoteca Wines\\n14. Terroir Treasures\\n15. Barrique Boutique.\\nHuman: Wines\\nAI: \\n\\n1. VinoVita\\n2. Grapevine Cellars\\n3. Legacy Estates Winery\\n4. Noble Vines\\n5. Harvest Moon Wines\\n6. Vinestream Cellars\\n7. Terroir Reserve\\n8. Bacchus Blend\\n9. Sip & Savour Winery\\n10. Oak & Vine Co.\\n11. Enchanted Vineyards\\n12. Vintage Roots Winery\\n13. WineCraft Co.\\n14. Cellar Door Wines\\n15. Chateau de Grapes\\n16. Cask & Cane Winery\\n17. WineHaus Co.\\n18. Terra Vino Winery\\n19. Vintner\\'s Choice\\n20. Redwood Ridge Winery\\nHuman: Wines\\nAI: \\n\\n1. Vintage Vines Co.\\n2. Grapevine Estates\\n3. Noble Nectar Winery\\n4. Cellar Select Wines\\n5. Harvest Haven Wines\\n6. Vino Vista Company\\n7. Redwood Ridge Winery\\n8. Velvet Crush Wines\\n9. Heritage Hills Vineyards\\n10. Savor & Sip Wines \\n\\nHuman: Wines\\nAI: \\n\\n1. Vinovia\\n2. CellarCraft\\n3. VinoVine\\n4. NobleVine\\n5. Grapes & Vines\\n6. Harvest & Vintages\\n7. WineCrafters\\n8. TerraVino\\n9. Bacchus Wines\\n10. The Vineyard Co.\\n11. Vintage Cellars\\n12. Winemaker\\'s Reserve\\n13. Legacy Wines\\n14. Terroir & Vines\\n15. Vinoteca\\n16. Grand Cru Winery\\n17. Vintner\\'s Choice\\n18. Grapevine Estates\\n19. Noble Valley Wines\\n20. Savvy Cellars.\\nHuman: Wines\\nAI: \\n\\n1. Vine & Vino\\n2. Cellar Reserve\\n3. Grapevine Co.\\n4. Harvest Moon Wines\\n5. Vintage Vines\\n6. Cork & Barrel\\n7. The Winery Collective\\n8. Noble Oak Wines\\n9. Crimson Crush Cellars\\n10. Bacchus\\' Bounty\\n11. Enchanting Estates\\n12. Heritage Hills Winery\\n13. Silver Lining Wines\\n14. Sun-kissed Cellars\\n15. Noble Nectar Winery.\\nHuman: Camera\\nAI: \\n\\n1. LensCrafters\\n2. SnapShutter Inc.\\n3. FocusWorks\\n4. ShotSpotter\\n5. ClickWorks\\n6. OpticVision\\n7. PixelPro\\n8. CamCo\\n9. ImageMakers\\n10. CaptureTech\\n11. CameraCrafters\\n12. FrameWorks\\n13. SnapTech Solutions\\n14. LensLogic\\n15. FilmFusion Co.\\n16. SnapSmith\\n17. CaptureCo\\n18. ShutterPro Inc.\\n19. PixelPerfect Co.\\n20. CamTech Solutions.',\n",
       " 'text': '\\n\\n1. SkyTech Drones\\n2. AeroVision Robotics\\n3. FlightWise Technologies\\n4. BlueSky Innovations\\n5. Winged Horizons\\n6. Altitude Dynamics\\n7. Skyline Drones\\n8. Airborne Solutions Co.\\n9. DroneWorks Inc.\\n10. Horizon Hoppers\\n11. AeroDrone Co.\\n12. CloudNine Robotics\\n13. SkyMaster Enterprises\\n14. DroneCraft Technologies\\n15. AirWise Innovations'}"
      ]
     },
     "execution_count": 47,
     "metadata": {},
     "output_type": "execute_result"
    }
   ],
   "source": [
    "chain.invoke(\"drons\")"
   ]
  },
  {
   "cell_type": "code",
   "execution_count": 48,
   "metadata": {},
   "outputs": [
    {
     "data": {
      "text/plain": [
       "ConversationBufferMemory(chat_memory=ChatMessageHistory(messages=[HumanMessage(content='Wines'), AIMessage(content=\"\\n\\n1. Vine & Vino Co.\\n2. Grapevine Cellars\\n3. Noble Nectar Wines\\n4. Harvest Moon Winery\\n5. Vintage Vines Company\\n6. Cork & Cask Co.\\n7. Bacchus Blend Winery\\n8. The Wine Cellar Co.\\n9. Terroir Tastings\\n10. Vintner's Reserve Wines\"), HumanMessage(content='Wines'), AIMessage(content='\\n\\n\"VineCraft\"'), HumanMessage(content='Wines'), AIMessage(content='\\n\\n\"Vinterra\"'), HumanMessage(content='Wines'), AIMessage(content=\"\\n\\n1. Vineyard Vines\\n2. Grape & Co.\\n3. The Wine Cellar\\n4. Noble Vines\\n5. Vintage Vines\\n6. Harvest Hill Winery\\n7. Cellar Door Wines\\n8. Barrel & Vat\\n9. Vino Vista\\n10. The Grape Company\\n11. Elite Estates Winery\\n12. Grand Cru Wines\\n13. Chateau Vineyards\\n14. Oak & Vine\\n15. Noble Oak Wines\\n16. The Wine Press\\n17. Vintage Reserve\\n18. Liberty Vineyards\\n19. The Wine Maker's Guild\\n20. Heritage Hills Winery.\"), HumanMessage(content='Wines'), AIMessage(content='\\n\\n1. VinoVerse\\n2. Grapevine Cellars\\n3. Vintage Vineyards\\n4. Winemakers Co.\\n5. Bacchus Bliss\\n6. The WineSmiths\\n7. Noble Nectar Wines\\n8. Harvest Haven Wines\\n9. Cellar Door Creations\\n10. Sip & Savor Winery\\n11. Chateau Charmant\\n12. Red, White & Bubbly Co.\\n13. Vinoteca Wines\\n14. Terroir Treasures\\n15. Barrique Boutique.'), HumanMessage(content='Wines'), AIMessage(content=\"\\n\\n1. VinoVita\\n2. Grapevine Cellars\\n3. Legacy Estates Winery\\n4. Noble Vines\\n5. Harvest Moon Wines\\n6. Vinestream Cellars\\n7. Terroir Reserve\\n8. Bacchus Blend\\n9. Sip & Savour Winery\\n10. Oak & Vine Co.\\n11. Enchanted Vineyards\\n12. Vintage Roots Winery\\n13. WineCraft Co.\\n14. Cellar Door Wines\\n15. Chateau de Grapes\\n16. Cask & Cane Winery\\n17. WineHaus Co.\\n18. Terra Vino Winery\\n19. Vintner's Choice\\n20. Redwood Ridge Winery\"), HumanMessage(content='Wines'), AIMessage(content='\\n\\n1. Vintage Vines Co.\\n2. Grapevine Estates\\n3. Noble Nectar Winery\\n4. Cellar Select Wines\\n5. Harvest Haven Wines\\n6. Vino Vista Company\\n7. Redwood Ridge Winery\\n8. Velvet Crush Wines\\n9. Heritage Hills Vineyards\\n10. Savor & Sip Wines \\n'), HumanMessage(content='Wines'), AIMessage(content=\"\\n\\n1. Vinovia\\n2. CellarCraft\\n3. VinoVine\\n4. NobleVine\\n5. Grapes & Vines\\n6. Harvest & Vintages\\n7. WineCrafters\\n8. TerraVino\\n9. Bacchus Wines\\n10. The Vineyard Co.\\n11. Vintage Cellars\\n12. Winemaker's Reserve\\n13. Legacy Wines\\n14. Terroir & Vines\\n15. Vinoteca\\n16. Grand Cru Winery\\n17. Vintner's Choice\\n18. Grapevine Estates\\n19. Noble Valley Wines\\n20. Savvy Cellars.\"), HumanMessage(content='Wines'), AIMessage(content=\"\\n\\n1. Vine & Vino\\n2. Cellar Reserve\\n3. Grapevine Co.\\n4. Harvest Moon Wines\\n5. Vintage Vines\\n6. Cork & Barrel\\n7. The Winery Collective\\n8. Noble Oak Wines\\n9. Crimson Crush Cellars\\n10. Bacchus' Bounty\\n11. Enchanting Estates\\n12. Heritage Hills Winery\\n13. Silver Lining Wines\\n14. Sun-kissed Cellars\\n15. Noble Nectar Winery.\"), HumanMessage(content='Camera'), AIMessage(content='\\n\\n1. LensCrafters\\n2. SnapShutter Inc.\\n3. FocusWorks\\n4. ShotSpotter\\n5. ClickWorks\\n6. OpticVision\\n7. PixelPro\\n8. CamCo\\n9. ImageMakers\\n10. CaptureTech\\n11. CameraCrafters\\n12. FrameWorks\\n13. SnapTech Solutions\\n14. LensLogic\\n15. FilmFusion Co.\\n16. SnapSmith\\n17. CaptureCo\\n18. ShutterPro Inc.\\n19. PixelPerfect Co.\\n20. CamTech Solutions.'), HumanMessage(content='drons'), AIMessage(content='\\n\\n1. SkyTech Drones\\n2. AeroVision Robotics\\n3. FlightWise Technologies\\n4. BlueSky Innovations\\n5. Winged Horizons\\n6. Altitude Dynamics\\n7. Skyline Drones\\n8. Airborne Solutions Co.\\n9. DroneWorks Inc.\\n10. Horizon Hoppers\\n11. AeroDrone Co.\\n12. CloudNine Robotics\\n13. SkyMaster Enterprises\\n14. DroneCraft Technologies\\n15. AirWise Innovations')]))"
      ]
     },
     "execution_count": 48,
     "metadata": {},
     "output_type": "execute_result"
    }
   ],
   "source": [
    "chain.memory"
   ]
  },
  {
   "cell_type": "code",
   "execution_count": 50,
   "metadata": {},
   "outputs": [
    {
     "name": "stdout",
     "output_type": "stream",
     "text": [
      "Human: Wines\n",
      "AI: \n",
      "\n",
      "1. Vine & Vino Co.\n",
      "2. Grapevine Cellars\n",
      "3. Noble Nectar Wines\n",
      "4. Harvest Moon Winery\n",
      "5. Vintage Vines Company\n",
      "6. Cork & Cask Co.\n",
      "7. Bacchus Blend Winery\n",
      "8. The Wine Cellar Co.\n",
      "9. Terroir Tastings\n",
      "10. Vintner's Reserve Wines\n",
      "Human: Wines\n",
      "AI: \n",
      "\n",
      "\"VineCraft\"\n",
      "Human: Wines\n",
      "AI: \n",
      "\n",
      "\"Vinterra\"\n",
      "Human: Wines\n",
      "AI: \n",
      "\n",
      "1. Vineyard Vines\n",
      "2. Grape & Co.\n",
      "3. The Wine Cellar\n",
      "4. Noble Vines\n",
      "5. Vintage Vines\n",
      "6. Harvest Hill Winery\n",
      "7. Cellar Door Wines\n",
      "8. Barrel & Vat\n",
      "9. Vino Vista\n",
      "10. The Grape Company\n",
      "11. Elite Estates Winery\n",
      "12. Grand Cru Wines\n",
      "13. Chateau Vineyards\n",
      "14. Oak & Vine\n",
      "15. Noble Oak Wines\n",
      "16. The Wine Press\n",
      "17. Vintage Reserve\n",
      "18. Liberty Vineyards\n",
      "19. The Wine Maker's Guild\n",
      "20. Heritage Hills Winery.\n",
      "Human: Wines\n",
      "AI: \n",
      "\n",
      "1. VinoVerse\n",
      "2. Grapevine Cellars\n",
      "3. Vintage Vineyards\n",
      "4. Winemakers Co.\n",
      "5. Bacchus Bliss\n",
      "6. The WineSmiths\n",
      "7. Noble Nectar Wines\n",
      "8. Harvest Haven Wines\n",
      "9. Cellar Door Creations\n",
      "10. Sip & Savor Winery\n",
      "11. Chateau Charmant\n",
      "12. Red, White & Bubbly Co.\n",
      "13. Vinoteca Wines\n",
      "14. Terroir Treasures\n",
      "15. Barrique Boutique.\n",
      "Human: Wines\n",
      "AI: \n",
      "\n",
      "1. VinoVita\n",
      "2. Grapevine Cellars\n",
      "3. Legacy Estates Winery\n",
      "4. Noble Vines\n",
      "5. Harvest Moon Wines\n",
      "6. Vinestream Cellars\n",
      "7. Terroir Reserve\n",
      "8. Bacchus Blend\n",
      "9. Sip & Savour Winery\n",
      "10. Oak & Vine Co.\n",
      "11. Enchanted Vineyards\n",
      "12. Vintage Roots Winery\n",
      "13. WineCraft Co.\n",
      "14. Cellar Door Wines\n",
      "15. Chateau de Grapes\n",
      "16. Cask & Cane Winery\n",
      "17. WineHaus Co.\n",
      "18. Terra Vino Winery\n",
      "19. Vintner's Choice\n",
      "20. Redwood Ridge Winery\n",
      "Human: Wines\n",
      "AI: \n",
      "\n",
      "1. Vintage Vines Co.\n",
      "2. Grapevine Estates\n",
      "3. Noble Nectar Winery\n",
      "4. Cellar Select Wines\n",
      "5. Harvest Haven Wines\n",
      "6. Vino Vista Company\n",
      "7. Redwood Ridge Winery\n",
      "8. Velvet Crush Wines\n",
      "9. Heritage Hills Vineyards\n",
      "10. Savor & Sip Wines \n",
      "\n",
      "Human: Wines\n",
      "AI: \n",
      "\n",
      "1. Vinovia\n",
      "2. CellarCraft\n",
      "3. VinoVine\n",
      "4. NobleVine\n",
      "5. Grapes & Vines\n",
      "6. Harvest & Vintages\n",
      "7. WineCrafters\n",
      "8. TerraVino\n",
      "9. Bacchus Wines\n",
      "10. The Vineyard Co.\n",
      "11. Vintage Cellars\n",
      "12. Winemaker's Reserve\n",
      "13. Legacy Wines\n",
      "14. Terroir & Vines\n",
      "15. Vinoteca\n",
      "16. Grand Cru Winery\n",
      "17. Vintner's Choice\n",
      "18. Grapevine Estates\n",
      "19. Noble Valley Wines\n",
      "20. Savvy Cellars.\n",
      "Human: Wines\n",
      "AI: \n",
      "\n",
      "1. Vine & Vino\n",
      "2. Cellar Reserve\n",
      "3. Grapevine Co.\n",
      "4. Harvest Moon Wines\n",
      "5. Vintage Vines\n",
      "6. Cork & Barrel\n",
      "7. The Winery Collective\n",
      "8. Noble Oak Wines\n",
      "9. Crimson Crush Cellars\n",
      "10. Bacchus' Bounty\n",
      "11. Enchanting Estates\n",
      "12. Heritage Hills Winery\n",
      "13. Silver Lining Wines\n",
      "14. Sun-kissed Cellars\n",
      "15. Noble Nectar Winery.\n",
      "Human: Camera\n",
      "AI: \n",
      "\n",
      "1. LensCrafters\n",
      "2. SnapShutter Inc.\n",
      "3. FocusWorks\n",
      "4. ShotSpotter\n",
      "5. ClickWorks\n",
      "6. OpticVision\n",
      "7. PixelPro\n",
      "8. CamCo\n",
      "9. ImageMakers\n",
      "10. CaptureTech\n",
      "11. CameraCrafters\n",
      "12. FrameWorks\n",
      "13. SnapTech Solutions\n",
      "14. LensLogic\n",
      "15. FilmFusion Co.\n",
      "16. SnapSmith\n",
      "17. CaptureCo\n",
      "18. ShutterPro Inc.\n",
      "19. PixelPerfect Co.\n",
      "20. CamTech Solutions.\n",
      "Human: drons\n",
      "AI: \n",
      "\n",
      "1. SkyTech Drones\n",
      "2. AeroVision Robotics\n",
      "3. FlightWise Technologies\n",
      "4. BlueSky Innovations\n",
      "5. Winged Horizons\n",
      "6. Altitude Dynamics\n",
      "7. Skyline Drones\n",
      "8. Airborne Solutions Co.\n",
      "9. DroneWorks Inc.\n",
      "10. Horizon Hoppers\n",
      "11. AeroDrone Co.\n",
      "12. CloudNine Robotics\n",
      "13. SkyMaster Enterprises\n",
      "14. DroneCraft Technologies\n",
      "15. AirWise Innovations\n"
     ]
    }
   ],
   "source": [
    "print(chain.memory.buffer)"
   ]
  },
  {
   "cell_type": "markdown",
   "metadata": {},
   "source": [
    "Conversation Chain :\n"
   ]
  },
  {
   "cell_type": "markdown",
   "metadata": {},
   "source": [
    "Conversation buffer memory goes growing endlessly.\n",
    "If we Just want to remember last five Conversation Chain and if Just want to  remember last 10-20 Conversation Chain."
   ]
  },
  {
   "cell_type": "code",
   "execution_count": 5,
   "metadata": {},
   "outputs": [],
   "source": [
    "from langchain.chains import ConversationChain"
   ]
  },
  {
   "cell_type": "code",
   "execution_count": 52,
   "metadata": {},
   "outputs": [],
   "source": [
    "convo = ConversationChain(llm=OpenAI(openai_api_key=OPENAI_API_KEY, temperature=0.7))"
   ]
  },
  {
   "cell_type": "code",
   "execution_count": 53,
   "metadata": {},
   "outputs": [
    {
     "data": {
      "text/plain": [
       "PromptTemplate(input_variables=['history', 'input'], template='The following is a friendly conversation between a human and an AI. The AI is talkative and provides lots of specific details from its context. If the AI does not know the answer to a question, it truthfully says it does not know.\\n\\nCurrent conversation:\\n{history}\\nHuman: {input}\\nAI:')"
      ]
     },
     "execution_count": 53,
     "metadata": {},
     "output_type": "execute_result"
    }
   ],
   "source": [
    "convo.prompt"
   ]
  },
  {
   "cell_type": "code",
   "execution_count": 55,
   "metadata": {},
   "outputs": [
    {
     "name": "stdout",
     "output_type": "stream",
     "text": [
      "The following is a friendly conversation between a human and an AI. The AI is talkative and provides lots of specific details from its context. If the AI does not know the answer to a question, it truthfully says it does not know.\n",
      "\n",
      "Current conversation:\n",
      "{history}\n",
      "Human: {input}\n",
      "AI:\n"
     ]
    }
   ],
   "source": [
    "print(convo.prompt.template)"
   ]
  },
  {
   "cell_type": "code",
   "execution_count": 58,
   "metadata": {},
   "outputs": [
    {
     "data": {
      "text/plain": [
       "{'input': 'Who won the first world cricket worldcup?',\n",
       " 'history': 'Human: Who won the first world cricket worldcup?\\nAI:  The first world cricket worldcup was won by the West Indies in 1975. They beat Australia by 17 runs in the final match. Interestingly, the first match of the tournament was between England and India, and England won by 202 runs.\\nHuman: Who won the first world cricket worldcup?\\nAI:  As I mentioned before, the first world cricket worldcup was won by the West Indies. Is there any other information you would like to know about the tournament?',\n",
       " 'response': ' As I have already said, the West Indies won the first world cricket worldcup in 1975. Is there something else you would like to know about it?'}"
      ]
     },
     "execution_count": 58,
     "metadata": {},
     "output_type": "execute_result"
    }
   ],
   "source": [
    "convo.invoke(\"Who won the first world cricket worldcup?\")"
   ]
  },
  {
   "cell_type": "code",
   "execution_count": 59,
   "metadata": {},
   "outputs": [
    {
     "data": {
      "text/plain": [
       "{'input': 'Can you tell how much will 5 + 5?',\n",
       " 'history': 'Human: Who won the first world cricket worldcup?\\nAI:  The first world cricket worldcup was won by the West Indies in 1975. They beat Australia by 17 runs in the final match. Interestingly, the first match of the tournament was between England and India, and England won by 202 runs.\\nHuman: Who won the first world cricket worldcup?\\nAI:  As I mentioned before, the first world cricket worldcup was won by the West Indies. Is there any other information you would like to know about the tournament?\\nHuman: Who won the first world cricket worldcup?\\nAI:  As I have already said, the West Indies won the first world cricket worldcup in 1975. Is there something else you would like to know about it?',\n",
       " 'response': ' The answer to 5 + 5 is 10. Is there anything else you would like to know?'}"
      ]
     },
     "execution_count": 59,
     "metadata": {},
     "output_type": "execute_result"
    }
   ],
   "source": [
    "convo.invoke(\"Can you tell how much will 5 + 5?\")"
   ]
  },
  {
   "cell_type": "code",
   "execution_count": 60,
   "metadata": {},
   "outputs": [
    {
     "data": {
      "text/plain": [
       "{'input': 'Can you tell me how much will 5*(5 + 1)?',\n",
       " 'history': 'Human: Who won the first world cricket worldcup?\\nAI:  The first world cricket worldcup was won by the West Indies in 1975. They beat Australia by 17 runs in the final match. Interestingly, the first match of the tournament was between England and India, and England won by 202 runs.\\nHuman: Who won the first world cricket worldcup?\\nAI:  As I mentioned before, the first world cricket worldcup was won by the West Indies. Is there any other information you would like to know about the tournament?\\nHuman: Who won the first world cricket worldcup?\\nAI:  As I have already said, the West Indies won the first world cricket worldcup in 1975. Is there something else you would like to know about it?\\nHuman: Can you tell how much will 5 + 5?\\nAI:  The answer to 5 + 5 is 10. Is there anything else you would like to know?',\n",
       " 'response': ' The answer to 5*(5 + 1) is 30. Is there anything else you would like to know?'}"
      ]
     },
     "execution_count": 60,
     "metadata": {},
     "output_type": "execute_result"
    }
   ],
   "source": [
    "convo.invoke(\"Can you tell me how much will 5*(5 + 1)?\")"
   ]
  },
  {
   "cell_type": "code",
   "execution_count": 61,
   "metadata": {},
   "outputs": [
    {
     "data": {
      "text/plain": [
       "{'input': 'Who was the captain of the winning team?',\n",
       " 'history': 'Human: Who won the first world cricket worldcup?\\nAI:  The first world cricket worldcup was won by the West Indies in 1975. They beat Australia by 17 runs in the final match. Interestingly, the first match of the tournament was between England and India, and England won by 202 runs.\\nHuman: Who won the first world cricket worldcup?\\nAI:  As I mentioned before, the first world cricket worldcup was won by the West Indies. Is there any other information you would like to know about the tournament?\\nHuman: Who won the first world cricket worldcup?\\nAI:  As I have already said, the West Indies won the first world cricket worldcup in 1975. Is there something else you would like to know about it?\\nHuman: Can you tell how much will 5 + 5?\\nAI:  The answer to 5 + 5 is 10. Is there anything else you would like to know?\\nHuman: Can you tell me how much will 5*(5 + 1)?\\nAI:  The answer to 5*(5 + 1) is 30. Is there anything else you would like to know?',\n",
       " 'response': '  The captain of the winning team, the West Indies, was Clive Lloyd. He also scored 102 runs in the final match.'}"
      ]
     },
     "execution_count": 61,
     "metadata": {},
     "output_type": "execute_result"
    }
   ],
   "source": [
    "convo.invoke(\"Who was the captain of the winning team?\")"
   ]
  },
  {
   "cell_type": "markdown",
   "metadata": {},
   "source": [
    "ConversationBufferWindowMemory"
   ]
  },
  {
   "cell_type": "code",
   "execution_count": 3,
   "metadata": {},
   "outputs": [],
   "source": [
    "from langchain.memory import ConversationBufferWindowMemory"
   ]
  },
  {
   "cell_type": "code",
   "execution_count": 10,
   "metadata": {},
   "outputs": [],
   "source": [
    "memory = ConversationBufferWindowMemory(k=4)"
   ]
  },
  {
   "cell_type": "code",
   "execution_count": 11,
   "metadata": {},
   "outputs": [],
   "source": [
    "convo = ConversationChain(llm=OpenAI(openai_api_key=OPENAI_API_KEY, temperature=0.7), memory=memory)"
   ]
  },
  {
   "cell_type": "code",
   "execution_count": 12,
   "metadata": {},
   "outputs": [
    {
     "data": {
      "text/plain": [
       "{'input': 'Who won the first world cricket worldcup?',\n",
       " 'history': '',\n",
       " 'response': \" The first world cricket worldcup was won by the West Indies in 1975. They defeated Australia by 17 runs in the final match, which was held in Lord's Cricket Ground in London, England. The West Indies team was led by Clive Lloyd and had players like Viv Richards, Gordon Greenidge, and Michael Holding.\"}"
      ]
     },
     "execution_count": 12,
     "metadata": {},
     "output_type": "execute_result"
    }
   ],
   "source": [
    "convo.invoke(\"Who won the first world cricket worldcup?\")"
   ]
  },
  {
   "cell_type": "code",
   "execution_count": 13,
   "metadata": {},
   "outputs": [
    {
     "data": {
      "text/plain": [
       "{'input': 'Can you tell how much will 5 + 5?',\n",
       " 'history': \"Human: Who won the first world cricket worldcup?\\nAI:  The first world cricket worldcup was won by the West Indies in 1975. They defeated Australia by 17 runs in the final match, which was held in Lord's Cricket Ground in London, England. The West Indies team was led by Clive Lloyd and had players like Viv Richards, Gordon Greenidge, and Michael Holding.\",\n",
       " 'response': ' Of course! 5 + 5 equals 10.'}"
      ]
     },
     "execution_count": 13,
     "metadata": {},
     "output_type": "execute_result"
    }
   ],
   "source": [
    "convo.invoke(\"Can you tell how much will 5 + 5?\")"
   ]
  },
  {
   "cell_type": "code",
   "execution_count": 14,
   "metadata": {},
   "outputs": [
    {
     "data": {
      "text/plain": [
       "{'input': 'Who was the captain of the winning team?',\n",
       " 'history': \"Human: Who won the first world cricket worldcup?\\nAI:  The first world cricket worldcup was won by the West Indies in 1975. They defeated Australia by 17 runs in the final match, which was held in Lord's Cricket Ground in London, England. The West Indies team was led by Clive Lloyd and had players like Viv Richards, Gordon Greenidge, and Michael Holding.\\nHuman: Can you tell how much will 5 + 5?\\nAI:  Of course! 5 + 5 equals 10.\",\n",
       " 'response': ' The captain of the winning team, West Indies, was Clive Lloyd. He was an all-rounder who was known for his powerful batting and effective captaincy. He also led the team to victory in the 1979 World Cup.'}"
      ]
     },
     "execution_count": 14,
     "metadata": {},
     "output_type": "execute_result"
    }
   ],
   "source": [
    "convo.invoke(\"Who was the captain of the winning team?\")"
   ]
  },
  {
   "cell_type": "code",
   "execution_count": null,
   "metadata": {},
   "outputs": [],
   "source": []
  }
 ],
 "metadata": {
  "kernelspec": {
   "display_name": "virtual",
   "language": "python",
   "name": "python3"
  },
  "language_info": {
   "codemirror_mode": {
    "name": "ipython",
    "version": 3
   },
   "file_extension": ".py",
   "mimetype": "text/x-python",
   "name": "python",
   "nbconvert_exporter": "python",
   "pygments_lexer": "ipython3",
   "version": "3.11.2"
  }
 },
 "nbformat": 4,
 "nbformat_minor": 2
}
