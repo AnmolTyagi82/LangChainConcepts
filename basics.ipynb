{
 "cells": [
  {
   "cell_type": "markdown",
   "metadata": {},
   "source": [
    "# Introduction to LangChain:"
   ]
  },
  {
   "cell_type": "code",
   "execution_count": 46,
   "metadata": {},
   "outputs": [],
   "source": [
    "import openai\n",
    "import langchain\n",
    "from langchain_openai import OpenAI\n",
    "from dotenv import load_dotenv\n",
    "load_dotenv()\n",
    "import os\n",
    "OPENAI_API_KEY = os.environ[\"OPENAI_API_KEY\"]"
   ]
  },
  {
   "cell_type": "code",
   "execution_count": 47,
   "metadata": {},
   "outputs": [],
   "source": [
    "client = OpenAI(openai_api_key=OPENAI_API_KEY)"
   ]
  },
  {
   "cell_type": "code",
   "execution_count": 57,
   "metadata": {},
   "outputs": [],
   "source": [
    "prompt = \"Can you tell me the total number of country in Asia? Can you give me the top 10 country name?\""
   ]
  },
  {
   "cell_type": "code",
   "execution_count": 58,
   "metadata": {},
   "outputs": [
    {
     "name": "stdout",
     "output_type": "stream",
     "text": [
      "As of 2021, there are 48 countries in Asia. \n",
      "\n",
      "The top 10 countries in Asia, ranked by population, are: \n",
      "\n",
      "1. China\n",
      "2. India\n",
      "3. Indonesia\n",
      "4. Pakistan\n",
      "5. Bangladesh\n",
      "6. Japan\n",
      "7. Philippines\n",
      "8. Vietnam\n",
      "9. Iran\n",
      "10. Turkey\n"
     ]
    }
   ],
   "source": [
    "print(client.invoke(prompt).strip())"
   ]
  },
  {
   "cell_type": "code",
   "execution_count": 59,
   "metadata": {},
   "outputs": [],
   "source": [
    "prompt2 = \"Can you tell me teh capital of India?\""
   ]
  },
  {
   "cell_type": "code",
   "execution_count": 60,
   "metadata": {},
   "outputs": [
    {
     "data": {
      "text/plain": [
       "'The capital of India is New Delhi.'"
      ]
     },
     "execution_count": 60,
     "metadata": {},
     "output_type": "execute_result"
    }
   ],
   "source": [
    "client.invoke(prompt2).strip()"
   ]
  },
  {
   "cell_type": "code",
   "execution_count": 61,
   "metadata": {},
   "outputs": [],
   "source": [
    "prompt3 = \"What is a token and a vectors?\""
   ]
  },
  {
   "cell_type": "code",
   "execution_count": 62,
   "metadata": {},
   "outputs": [
    {
     "data": {
      "text/plain": [
       "'A token is a single unit of information, typically a word or punctuation mark, that is used as an element in a larger data structure, such as a sentence or a document.\\n\\nA vector is a mathematical representation of a set of numbers or values arranged in a specific order. In the context of natural language processing, a vector is often used to represent a word or phrase by assigning each word or character a numerical value based on its meaning or context. Vectors can also be used to represent larger units of information, such as sentences or documents, by combining the individual word vectors into a larger vector.'"
      ]
     },
     "execution_count": 62,
     "metadata": {},
     "output_type": "execute_result"
    }
   ],
   "source": [
    "client.invoke(prompt3).strip()"
   ]
  },
  {
   "cell_type": "markdown",
   "metadata": {},
   "source": [
    "# Prompt Templates:"
   ]
  },
  {
   "cell_type": "code",
   "execution_count": 63,
   "metadata": {},
   "outputs": [],
   "source": [
    "from langchain.prompts import PromptTemplate"
   ]
  },
  {
   "cell_type": "code",
   "execution_count": 64,
   "metadata": {},
   "outputs": [],
   "source": [
    "prompt_template_name = PromptTemplate(\n",
    "    input_variables=[\"country\"],\n",
    "    template=\"Can you tell me the capital of {country}?\"\n",
    ")"
   ]
  },
  {
   "cell_type": "code",
   "execution_count": 65,
   "metadata": {},
   "outputs": [],
   "source": [
    "prompt1 = prompt_template_name.format(country=\"India\")"
   ]
  },
  {
   "cell_type": "code",
   "execution_count": 66,
   "metadata": {},
   "outputs": [],
   "source": [
    "prompt2 = prompt_template_name.format(country=\"China\")"
   ]
  },
  {
   "cell_type": "code",
   "execution_count": 67,
   "metadata": {},
   "outputs": [
    {
     "data": {
      "text/plain": [
       "'New Delhi'"
      ]
     },
     "execution_count": 67,
     "metadata": {},
     "output_type": "execute_result"
    }
   ],
   "source": [
    "client.invoke(prompt1).strip()"
   ]
  },
  {
   "cell_type": "code",
   "execution_count": 68,
   "metadata": {},
   "outputs": [
    {
     "data": {
      "text/plain": [
       "'The capital of China is Beijing.'"
      ]
     },
     "execution_count": 68,
     "metadata": {},
     "output_type": "execute_result"
    }
   ],
   "source": [
    "client.invoke(prompt2).strip()"
   ]
  },
  {
   "cell_type": "code",
   "execution_count": 69,
   "metadata": {},
   "outputs": [],
   "source": [
    "prompt = PromptTemplate.from_template(\"What is the good name for a country that makes a {product}\")"
   ]
  },
  {
   "cell_type": "code",
   "execution_count": 70,
   "metadata": {},
   "outputs": [],
   "source": [
    "prompt3 = prompt.format(product=\"toys\")"
   ]
  },
  {
   "cell_type": "code",
   "execution_count": 71,
   "metadata": {},
   "outputs": [
    {
     "data": {
      "text/plain": [
       "'Toylandia'"
      ]
     },
     "execution_count": 71,
     "metadata": {},
     "output_type": "execute_result"
    }
   ],
   "source": [
    "client.invoke(prompt3).strip()"
   ]
  },
  {
   "cell_type": "markdown",
   "metadata": {},
   "source": [
    "# Agents:"
   ]
  },
  {
   "cell_type": "markdown",
   "metadata": {},
   "source": [
    "# for extracting a real time info i am going to use serp api\n",
    "# now by using this serp api i will call google-searcg-engine\n",
    "# and i will extract the information in a real time"
   ]
  },
  {
   "cell_type": "code",
   "execution_count": 72,
   "metadata": {},
   "outputs": [],
   "source": [
    "serpapi_key = os.environ[\"SERP_API_KEY\"]"
   ]
  },
  {
   "cell_type": "code",
   "execution_count": 3,
   "metadata": {},
   "outputs": [],
   "source": [
    "from langchain.agents import AgentType\n",
    "from langchain.agents import load_tools\n",
    "from langchain.agents import initialize_agent\n",
    "from langchain_openai import OpenAI"
   ]
  },
  {
   "cell_type": "code",
   "execution_count": 8,
   "metadata": {},
   "outputs": [],
   "source": [
    "client = OpenAI(openai_api_key=OPENAI_API_KEY)"
   ]
  },
  {
   "cell_type": "code",
   "execution_count": 99,
   "metadata": {},
   "outputs": [],
   "source": [
    "tool = load_tools([\"serpapi\"], serpapi_api_key = serpapi_key, llm=client)"
   ]
  },
  {
   "cell_type": "code",
   "execution_count": 100,
   "metadata": {},
   "outputs": [],
   "source": [
    "agent = initialize_agent(tool, client, agent=AgentType.ZERO_SHOT_REACT_DESCRIPTION, verbose=True)"
   ]
  },
  {
   "cell_type": "code",
   "execution_count": 101,
   "metadata": {},
   "outputs": [
    {
     "name": "stdout",
     "output_type": "stream",
     "text": [
      "\n",
      "\n",
      "\u001b[1m> Entering new AgentExecutor chain...\u001b[0m\n",
      "\u001b[32;1m\u001b[1;3m I should search for the answer using a search engine\n",
      "Action: Search\n",
      "Action Input: Cricket World Cup Winners\u001b[0m\n",
      "Observation: \u001b[36;1m\u001b[1;3mAustralian Men’s Cricket Team\u001b[0m\n",
      "Thought:\u001b[32;1m\u001b[1;3m I should double check with another source to confirm the answer\n",
      "Action: Search\n",
      "Action Input: Recent Cricket World Cup Winners\u001b[0m\n",
      "Observation: \u001b[36;1m\u001b[1;3m{'title': 'ICC Cricket World Cup', 'thumbnail': 'https://serpapi.com/searches/66196f02382427a8738ca0d4/images/b36636f1fabf942825348ef4ee5317ff2a3393f1e9438144f964973fa4004f30.png', 'games': [{'tournament': 'ICC Cricket World Cup', 'stadium': 'Narendra Modi Stadium', 'date': 'Nov 19, 23', 'teams': [{'name': 'India', 'score': '240 (50)', 'thumbnail': 'https://serpapi.com/searches/66196f02382427a8738ca0d4/images/b36636f1fabf9428d61e46b3c8297c6175e89d992c52209b4b996ea1da88becbf6ed1bd9ec076b39b77525b152538aa3.png'}, {'name': 'Australia', 'score': '241/4 (43)', 'thumbnail': 'https://serpapi.com/searches/66196f02382427a8738ca0d4/images/b36636f1fabf9428d61e46b3c8297c6175e89d992c52209b5b2f9ef5fcacaae6f09987c824aeece71b89e0e6d3b859dc.png'}], 'status': 'AUS won by 6 wickets (42 balls left)'}, {'tournament': 'ICC Cricket World Cup', 'stadium': 'Eden Gardens', 'date': 'Nov 16, 23', 'teams': [{'name': 'South Africa', 'score': '212 (49.4)', 'thumbnail': 'https://serpapi.com/searches/66196f02382427a8738ca0d4/images/b36636f1fabf9428d61e46b3c8297c612e1b52b576c0ba9f66e6d95efe9e0e9e154c3e0f78c386d8f9146d8049cc8493.png'}, {'name': 'Australia', 'score': '215/7 (47.2)', 'thumbnail': 'https://serpapi.com/searches/66196f02382427a8738ca0d4/images/b36636f1fabf9428d61e46b3c8297c612e1b52b576c0ba9f3ff6fa77d27b2896b35acb0b76f3254b93ca502b15a7b3d0.png'}], 'status': 'AUS won by 3 wickets (16 balls left)'}, {'tournament': 'ICC Cricket World Cup', 'stadium': 'Wankhede Stadium', 'date': 'Nov 15, 23', 'teams': [{'name': 'India', 'score': '397/4 (50)', 'thumbnail': 'https://serpapi.com/searches/66196f02382427a8738ca0d4/images/b36636f1fabf9428d61e46b3c8297c6120b2aae05c34fa0ef9174f3a1ba96ebdf47fb2ab3f9f3ef893b1d1f918fdb0bf.png'}, {'name': 'New Zealand', 'score': '327 (48.5)', 'thumbnail': 'https://serpapi.com/searches/66196f02382427a8738ca0d4/images/b36636f1fabf9428d61e46b3c8297c6120b2aae05c34fa0eb58f34cfd7ee60adbb0d116803dbfae38a9660233656a1c1.png'}], 'status': 'IND won by 70 runs'}, {'tournament': 'ICC Cricket World Cup', 'stadium': 'M. Chinnaswamy Stadium', 'date': 'Nov 12, 23', 'teams': [{'name': 'India', 'score': '410/4 (50)', 'thumbnail': 'https://serpapi.com/searches/66196f02382427a8738ca0d4/images/b36636f1fabf9428d61e46b3c8297c619008e04fd13e33c357541f436cb8c5626fa9802ed969c000436279c65c556ebd.png'}, {'name': 'Netherlands', 'score': '250 (47.5)', 'thumbnail': 'https://serpapi.com/searches/66196f02382427a8738ca0d4/images/b36636f1fabf9428d61e46b3c8297c619008e04fd13e33c37b6ac906703c7d57fe640a86ca5658dec83275ee99e63eda.png'}], 'status': 'IND won by 160 runs'}, {'tournament': 'ICC Cricket World Cup', 'stadium': 'Eden Gardens', 'date': 'Nov 11, 23', 'teams': [{'name': 'England', 'score': '337/9 (50)', 'thumbnail': 'https://serpapi.com/searches/66196f02382427a8738ca0d4/images/b36636f1fabf9428d61e46b3c8297c61224116447c8bdf11a087f3884ae43a3b8cb2f22dda96eaca180ec44bbbd1b9dd.png'}, {'name': 'Pakistan', 'score': '244 (43.3)', 'thumbnail': 'https://serpapi.com/searches/66196f02382427a8738ca0d4/images/b36636f1fabf9428d61e46b3c8297c61224116447c8bdf115731473cc45983efe6be61402dabd7c9e0fa7ee4387b6066.png'}], 'status': 'ENG won by 93 runs'}, {'tournament': 'ICC Cricket World Cup', 'stadium': 'Maharashtra Cricket Association Stadium', 'date': 'Nov 11, 23', 'teams': [{'name': 'Bangladesh', 'score': '306/8 (50)', 'thumbnail': 'https://serpapi.com/searches/66196f02382427a8738ca0d4/images/b36636f1fabf9428d61e46b3c8297c611bc9385f65e10e46d718dbd9729817cc957b806b7a060338aa0218f1d81bb924.png'}, {'name': 'Australia', 'score': '307/2 (44.4)', 'thumbnail': 'https://serpapi.com/searches/66196f02382427a8738ca0d4/images/b36636f1fabf9428d61e46b3c8297c611bc9385f65e10e46620637c61a8f92df3cd414c19cd97de0363d38ffad2ddfb7.png'}], 'status': 'AUS won by 8 wickets (32 balls left)'}]}\u001b[0m\n",
      "Thought:\u001b[32;1m\u001b[1;3m I now know the final answer\n",
      "Final Answer: The Australian Men's Cricket Team won the recent Cricket World Cup.\u001b[0m\n",
      "\n",
      "\u001b[1m> Finished chain.\u001b[0m\n"
     ]
    },
    {
     "data": {
      "text/plain": [
       "{'input': 'Can you tell who won the cricket world cup recently?',\n",
       " 'output': \"The Australian Men's Cricket Team won the recent Cricket World Cup.\"}"
      ]
     },
     "execution_count": 101,
     "metadata": {},
     "output_type": "execute_result"
    }
   ],
   "source": [
    "agent.invoke(\"Can you tell who won the cricket world cup recently?\")"
   ]
  },
  {
   "cell_type": "code",
   "execution_count": 102,
   "metadata": {},
   "outputs": [
    {
     "name": "stdout",
     "output_type": "stream",
     "text": [
      "\n",
      "\n",
      "\u001b[1m> Entering new AgentExecutor chain...\u001b[0m\n",
      "\u001b[32;1m\u001b[1;3m I should think about what to do first\n",
      "Action: Search\n",
      "Action Input: \"top 5 current affairs\"\u001b[0m\n",
      "Observation: \u001b[36;1m\u001b[1;3m['Current Affairs ; TSMC Acts against 19 Quacks · 2 April 2024 10:00 AM ; Krishna Thirst Quencher: Telangana Gets 8.5 TMC, AP 5.5 TMC · 12 April 2024 9:01 AM ; NIA ...', 'Here we are providing the daily Current Affairs 2024 for upcoming Bank, SSC, Railway and UPSC Exams. It will improve the current affairs and General ...', 'Reuters.com is your online source for the latest US news stories and current events, ensuring our readers up to date with any breaking news developments.', 'A Current Affairs subscription is one of the best known ways to improve your life in a hurry. Our print magazine is released six times a year, in a beautiful ...', 'Current Affairs 2024: Get here daily current affairs for UPSC IAS, Bank, SSC, Railway and all others competitive exams at Jagran Josh.', 'Latest world news headlines: International breaking news and current affairs from US, Europe, Middle East, Asia, Africa and more. If it happens around the ...', 'Check out for the latest news on current affairs along with current affairs live news at Times of India.', '... Highest Number of Selections in TOP 5 NLUs in CLAT 2024 Top-Tier Guidance: - 15+ years of experience with faculty from top NLUs ...', 'Top Current Affairs contains latest weekly current affairs and news from all over the world. Read top weekly news, current affairs news, latest happenings, ...', \"GKToday's Current Affairs Today Section provides the latest and Best Daily Current Affairs 2024-25 for UPSC, IAS/PCS, Banking, IBPS, SSC, ...\"]\u001b[0m\n",
      "Thought:\u001b[32;1m\u001b[1;3m I should repeat the search with different keywords to get more comprehensive results\n",
      "Action: Search\n",
      "Action Input: \"top 5 current events\"\u001b[0m\n",
      "Observation: \u001b[36;1m\u001b[1;3m['US News is a recognized leader in college, grad school, hospital, mutual fund, and car rankings. Track elected officials, research health conditions, ...', \"View the latest US news, top stories, photos and videos from around the nation. To get the day's top headlines delivered to your inbox every morning, ...\", 'View CNN world news today for international news and videos from Europe, Asia, Africa, the Middle East and the Americas.', 'Go to NBCNews.com for breaking news, videos, and the latest top stories in world news, business, politics, health and pop culture.', 'Stay informed with latest current events and international news from around the world featuring up-to-the-minute reporting, photos and videos.', 'NPR coverage of national news, U.S. politics, elections, business, arts, culture, health and science, and technology. Subscribe to the NPR Nation RSS feed.', 'View the latest national news from The Associated Press. Stay tuned in to all of the current events within the U.S. borders and breaking ...', 'US News has breaking world news on the war in Iraq and Afghanistan, international business news about the European and Asian economic market, and more.', 'Reuters.com is your online source for the latest US news stories and current events, ensuring our readers up to date with any breaking news developments.', 'Breaking news, photos and videos from around the United States. Read our latest coverage on education, health care, immigration, politics, race and ...']\u001b[0m\n",
      "Thought:\u001b[32;1m\u001b[1;3m I now know the final answer\n",
      "Final Answer: The top 5 current events are the US news and politics, international news, business, health, and technology.\u001b[0m\n",
      "\n",
      "\u001b[1m> Finished chain.\u001b[0m\n"
     ]
    },
    {
     "data": {
      "text/plain": [
       "{'input': 'Can you tell me top 5 current affairs?',\n",
       " 'output': 'The top 5 current events are the US news and politics, international news, business, health, and technology.'}"
      ]
     },
     "execution_count": 102,
     "metadata": {},
     "output_type": "execute_result"
    }
   ],
   "source": [
    "agent.invoke(\"Can you tell me top 5 current affairs?\")"
   ]
  },
  {
   "cell_type": "code",
   "execution_count": 103,
   "metadata": {},
   "outputs": [],
   "source": [
    "tool = load_tools([\"wikipedia\"], llm=client)"
   ]
  },
  {
   "cell_type": "code",
   "execution_count": 104,
   "metadata": {},
   "outputs": [],
   "source": [
    "agent = initialize_agent(tool, client, agent=AgentType.ZERO_SHOT_REACT_DESCRIPTION, verbose=True)"
   ]
  },
  {
   "cell_type": "code",
   "execution_count": 110,
   "metadata": {},
   "outputs": [
    {
     "name": "stdout",
     "output_type": "stream",
     "text": [
      "\n",
      "\n",
      "\u001b[1m> Entering new AgentExecutor chain...\u001b[0m\n",
      "\u001b[32;1m\u001b[1;3m I should search for the answer on Wikipedia\n",
      "Action: wikipedia\n",
      "Action Input: United States GDP\u001b[0m\n",
      "Observation: \u001b[36;1m\u001b[1;3mPage: Economy of the United States\n",
      "Summary: The United States is a highly developed/advanced mixed economy. It is the world's largest economy by nominal GDP; it is also the second largest by purchasing power parity (PPP), behind China. It has the world's seventh highest per capita GDP (nominal) and the eighth highest per capita GDP (PPP) as of 2022. The U.S. accounted for 25.4% of the global economy in 2022 in nominal terms, and about 15.6% in PPP terms. The U.S. dollar is the currency of record most used in international transactions and is the world's reserve currency, backed by a large U.S. treasuries market, its role as the reference standard for the petrodollar system, and its linked eurodollar. Several countries use it as their official currency and in others it is the de facto currency.The American economy is fueled by high productivity, well developed transportation infrastructure, and extensive natural resources. Americans have the highest average household and employee income among OECD member states. In 2021, they had the highest median household income. The U.S. has one of the world's highest income inequalities among the developed countries. The largest U.S. trading partners are Canada, Mexico, China, Japan, Germany, South Korea, the United Kingdom, Taiwan, India, and Vietnam. The U.S. is the world's largest importer and second largest exporter. It has free trade agreements with several countries, including Canada and Mexico (through the USMCA), Australia, South Korea, Israel, and several others that are in effect or under negotiation.By 1890, the United States had overtaken the British Empire as the world's most productive economy. It is the world's largest producer of petroleum and natural gas. In 2016, it was the world's largest trading country and second largest manufacturer, with American manufacturing making up a fifth of the global total. The U.S. not only has the largest internal market for goods, but also dominates the services trade. Total U.S. trade was $4.2 trillion in 2018. Of the world's 500 largest companies, 121 are headquartered in the U.S. The U.S. has the world's highest number of billionaires, with total wealth of $3.0 trillion. U.S. commercial banks had $22.9 trillion in assets in December 2022. U.S. global assets under management had more than $30 trillion in assets. During the Great Recession of 2008, the U.S. economy suffered a significant decline. The American Reinvestment and Recovery Act was enacted by the United States Congress, and in the ensuing years the U.S. experienced the longest economic expansion on record by July 2019.The New York Stock Exchange and Nasdaq are the world's largest stock exchanges by market capitalization and trade volume. In 2014, the U.S. economy was ranked first in international ranking on venture capital and global research and development funding. Consumer spending comprised 68% of the U.S. economy in 2022, while its labor share of income was 44% in 2021. The U.S. has the world's largest consumer market. The nation's labor market has attracted immigrants from all over the world and its net migration rate is among the highest in the world. The U.S. is one of the top-performing economies in studies such as the Ease of Doing Business Index, the Global Competitiveness Report, and others.\n",
      "\n",
      "Page: List of U.S. states and territories by GDP\n",
      "Summary: This is a list of U.S. states and territories by gross domestic product (GDP). This article presents the 50 U.S. states and the District of Columbia and their nominal GDP at current prices.\n",
      "The data source for the list is the Bureau of Economic Analysis (BEA) in 2022. The BEA defined GDP by state as \"the sum of value added from all industries in the state.\"Nominal GDP does not take into account differences in the cost of living in different countries, and the results can vary greatly from one year to another based on fluctuations in the exchange rates of the country's currency. Such fluctuations may change a country's ra\u001b[0m\n",
      "Thought:\u001b[32;1m\u001b[1;3m I now know the final answer\n",
      "Final Answer: According to Wikipedia, as of 2022, the current GDP of the United States is approximately $22.9 trillion, making it the world's largest economy.\u001b[0m\n",
      "\n",
      "\u001b[1m> Finished chain.\u001b[0m\n"
     ]
    },
    {
     "data": {
      "text/plain": [
       "{'input': 'What is the current GDP of united states?',\n",
       " 'output': \"According to Wikipedia, as of 2022, the current GDP of the United States is approximately $22.9 trillion, making it the world's largest economy.\"}"
      ]
     },
     "execution_count": 110,
     "metadata": {},
     "output_type": "execute_result"
    }
   ],
   "source": [
    "agent.invoke(\"What is the current GDP of united states?\")"
   ]
  },
  {
   "cell_type": "markdown",
   "metadata": {},
   "source": [
    "# Chain\n",
    "Central to LangChain is a vital component known as LangChain Chains, forming the core connection among one or several large language models(LLMs). In certain sophisticated applications, it becomes necessary to chain LLMs together, either with each other or with other elements."
   ]
  },
  {
   "cell_type": "code",
   "execution_count": 10,
   "metadata": {},
   "outputs": [],
   "source": [
    "from langchain.prompts import PromptTemplate\n",
    "\n",
    "prompt = PromptTemplate.from_template(\"What is a good name for a company that makes {product}?\")"
   ]
  },
  {
   "cell_type": "code",
   "execution_count": 11,
   "metadata": {},
   "outputs": [],
   "source": [
    "from langchain.chains import LLMChain"
   ]
  },
  {
   "cell_type": "code",
   "execution_count": 21,
   "metadata": {},
   "outputs": [
    {
     "data": {
      "text/plain": [
       "'VineCraft Co.'"
      ]
     },
     "execution_count": 21,
     "metadata": {},
     "output_type": "execute_result"
    }
   ],
   "source": [
    "chain = LLMChain(llm=client, prompt=prompt)\n",
    "chain.run(\"Wine\").strip()"
   ]
  },
  {
   "cell_type": "markdown",
   "metadata": {},
   "source": [
    "Example 2 : "
   ]
  },
  {
   "cell_type": "code",
   "execution_count": 17,
   "metadata": {},
   "outputs": [],
   "source": [
    "prompt_template = PromptTemplate(\n",
    "    input_variables = [\"cuisine\"],\n",
    "    template=\"I want to open a restaurent for {cuisine} food, suggest a fency name for this.\"\n",
    ")"
   ]
  },
  {
   "cell_type": "code",
   "execution_count": 18,
   "metadata": {},
   "outputs": [
    {
     "data": {
      "text/plain": [
       "PromptTemplate(input_variables=['cuisine'], template='I want to open a restaurent for {cuisine} food, suggest a fency name for this.')"
      ]
     },
     "execution_count": 18,
     "metadata": {},
     "output_type": "execute_result"
    }
   ],
   "source": [
    "prompt_template"
   ]
  },
  {
   "cell_type": "code",
   "execution_count": 22,
   "metadata": {},
   "outputs": [
    {
     "data": {
      "text/plain": [
       "'\"Dragon Palace\"'"
      ]
     },
     "execution_count": 22,
     "metadata": {},
     "output_type": "execute_result"
    }
   ],
   "source": [
    "chain = LLMChain(llm=client, prompt=prompt_template)\n",
    "chain.run(\"Chinese\").strip()"
   ]
  },
  {
   "cell_type": "code",
   "execution_count": 23,
   "metadata": {},
   "outputs": [
    {
     "name": "stdout",
     "output_type": "stream",
     "text": [
      "\n",
      "\n",
      "\u001b[1m> Entering new LLMChain chain...\u001b[0m\n",
      "Prompt after formatting:\n",
      "\u001b[32;1m\u001b[1;3mI want to open a restaurent for American food, suggest a fency name for this.\u001b[0m\n",
      "\n",
      "\u001b[1m> Finished chain.\u001b[0m\n"
     ]
    },
    {
     "data": {
      "text/plain": [
       "'\\n\\n\"Stateside Bistro\"'"
      ]
     },
     "execution_count": 23,
     "metadata": {},
     "output_type": "execute_result"
    }
   ],
   "source": [
    "chain = LLMChain(llm=client, prompt=prompt_template, verbose=True)\n",
    "chain.run(\"American\")"
   ]
  },
  {
   "cell_type": "markdown",
   "metadata": {},
   "source": [
    "If we want to combine multiple chains and set a sequence for that we use simplesequential chain."
   ]
  },
  {
   "cell_type": "code",
   "execution_count": 24,
   "metadata": {},
   "outputs": [],
   "source": [
    "prompt_template_name = PromptTemplate(\n",
    "    input_variables=[\"startup_name\"],\n",
    "    template=\"I want to start a startup for {startup_name}, suggest me a good name for this.\"\n",
    ")"
   ]
  },
  {
   "cell_type": "code",
   "execution_count": 26,
   "metadata": {},
   "outputs": [],
   "source": [
    "name_chain = LLMChain(llm=client, prompt=prompt_template_name)"
   ]
  },
  {
   "cell_type": "code",
   "execution_count": 27,
   "metadata": {},
   "outputs": [],
   "source": [
    "prompt_template_items = PromptTemplate(\n",
    "    input_variables=[\"name\"],\n",
    "    template=\"Suggest some strategies for {name}\"\n",
    ")"
   ]
  },
  {
   "cell_type": "code",
   "execution_count": 28,
   "metadata": {},
   "outputs": [],
   "source": [
    "strategies_chain = LLMChain(llm=client, prompt=prompt_template_items)"
   ]
  },
  {
   "cell_type": "code",
   "execution_count": 29,
   "metadata": {},
   "outputs": [],
   "source": [
    "from langchain.chains import SimpleSequentialChain"
   ]
  },
  {
   "cell_type": "code",
   "execution_count": 30,
   "metadata": {},
   "outputs": [],
   "source": [
    "chain = SimpleSequentialChain(chains=[name_chain, strategies_chain])"
   ]
  },
  {
   "cell_type": "code",
   "execution_count": 32,
   "metadata": {},
   "outputs": [
    {
     "name": "stdout",
     "output_type": "stream",
     "text": [
      "\n",
      "\n",
      "1. Develop a strong online presence: In today's digital age, having a strong online presence is crucial for any business. Create a website for AI Genius Labs with detailed information about your services, team, and projects. Utilize social media platforms such as LinkedIn, Twitter, and Instagram to reach a wider audience and engage with potential clients.\n",
      "\n",
      "2. Partner with universities and research institutions: Collaborating with universities and research institutions can help AI Genius Labs access cutting-edge research and technology. It can also provide opportunities for internships and potential future employees.\n",
      "\n",
      "3. Attend industry conferences and events: Participating in industry conferences and events can help AI Genius Labs network with potential clients, investors, and partners. It can also provide valuable insights into the latest trends and advancements in the field of AI.\n",
      "\n",
      "4. Offer free workshops and training programs: Organize free workshops and training programs to showcase your expertise and educate people about the potential of AI. This can help build credibility and attract potential clients.\n",
      "\n",
      "5. Create targeted marketing campaigns: Use targeted marketing strategies to reach your target audience. This can include digital marketing techniques such as search engine optimization, targeted social media ads, and email marketing.\n",
      "\n",
      "6. Focus on customer satisfaction: Satisfied clients can be the best form of marketing for any business.\n"
     ]
    }
   ],
   "source": [
    "print(chain.run(\"Artificial Intelligance\"))"
   ]
  },
  {
   "cell_type": "markdown",
   "metadata": {},
   "source": [
    "Now try to understand the sequential chain"
   ]
  },
  {
   "cell_type": "code",
   "execution_count": 33,
   "metadata": {},
   "outputs": [],
   "source": [
    "prompt_template_name = PromptTemplate(\n",
    "    input_variables=[\"cuisine\"],\n",
    "    template=\"I want to open a restaurant for {cuisine}, suggest me a fency name for it.\"\n",
    ")\n",
    "name_chain = LLMChain(llm=client, prompt=prompt_template_name, output_key=\"restaurant_name\")"
   ]
  },
  {
   "cell_type": "code",
   "execution_count": 34,
   "metadata": {},
   "outputs": [],
   "source": [
    "prompt_template_items = PromptTemplate(\n",
    "    input_variables=[\"restaurant_name\"],\n",
    "    template=\"Suggest some menu items for {restaurant_name}\"\n",
    ")\n",
    "food_items_chain = LLMChain(llm=client, prompt=prompt_template_items, output_key=\"menu_items\")"
   ]
  },
  {
   "cell_type": "code",
   "execution_count": 35,
   "metadata": {},
   "outputs": [],
   "source": [
    "from langchain.chains import SequentialChain"
   ]
  },
  {
   "cell_type": "code",
   "execution_count": 37,
   "metadata": {},
   "outputs": [],
   "source": [
    "chain = SequentialChain(\n",
    "    chains=[name_chain, food_items_chain],\n",
    "    input_variables = [\"cuisine\"],\n",
    "    output_variables = [\"restaurant_name\", \"menu_items\"]\n",
    ")"
   ]
  },
  {
   "cell_type": "code",
   "execution_count": 48,
   "metadata": {},
   "outputs": [
    {
     "data": {
      "text/plain": [
       "{'cuisine': 'indian',\n",
       " 'restaurant_name': '\\n\\n1. \"Taj Mahal Bistro\"\\n2. \"Spice Palace Restaurant\"\\n3. \"Masala Magic Eatery\"\\n4. \"Curry Kingdom\"\\n5. \"Namaste Cafe\"\\n6. \"Saffron Delight\"\\n7. \"Royal Indian Cuisine\"\\n8. \"Flavors of India\"\\n9. \"Chai & Chutney\"\\n10. \"Desi Diner\"',\n",
       " 'menu_items': '\\n\\n1. \"Taj Mahal Bistro Special Chicken Tikka Masala\"\\n2. \"Spice Palace Vegetable Biryani\"\\n3. \"Masala Magic Butter Chicken\"\\n4. \"Curry Kingdom Lamb Vindaloo\"\\n5. \"Namaste Cafe Tandoori Chicken\"\\n6. \"Saffron Delight Paneer Tikka Masala\"\\n7. \"Royal Indian Cuisine Mutton Rogan Josh\"\\n8. \"Flavors of India Chana Masala\"\\n9. \"Chai & Chutney Aloo Gobi\"\\n10. \"Desi Diner Samosa Platter\"'}"
      ]
     },
     "execution_count": 48,
     "metadata": {},
     "output_type": "execute_result"
    }
   ],
   "source": [
    "chain.invoke({\"cuisine\": \"indian\"})"
   ]
  }
 ],
 "metadata": {
  "kernelspec": {
   "display_name": "virtual",
   "language": "python",
   "name": "python3"
  },
  "language_info": {
   "codemirror_mode": {
    "name": "ipython",
    "version": 3
   },
   "file_extension": ".py",
   "mimetype": "text/x-python",
   "name": "python",
   "nbconvert_exporter": "python",
   "pygments_lexer": "ipython3",
   "version": "3.11.2"
  }
 },
 "nbformat": 4,
 "nbformat_minor": 2
}
